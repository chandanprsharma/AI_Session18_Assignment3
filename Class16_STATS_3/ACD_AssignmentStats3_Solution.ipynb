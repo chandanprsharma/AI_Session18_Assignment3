{
 "cells": [
  {
   "cell_type": "markdown",
   "metadata": {},
   "source": [
    "## Statistics 3\n",
    "### Assignment 1 Question"
   ]
  },
  {
   "cell_type": "code",
   "execution_count": 1,
   "metadata": {},
   "outputs": [],
   "source": [
    "# Import modules\n",
    "import numpy as np\n",
    "import math as m"
   ]
  },
  {
   "cell_type": "markdown",
   "metadata": {},
   "source": [
    "#### Problem Statement 1:\n",
    "Blood glucose levels for obese patients have a mean of 100 with a standard deviation of 15. A researcher thinks that a diet high in raw cornstarch will have a positive effect on blood glucose levels. A sample of 36 patients who have tried the raw cornstarch diet have a mean glucose level of 108. Test the hypothesis that the raw cornstarch had an effect or not."
   ]
  },
  {
   "cell_type": "code",
   "execution_count": 2,
   "metadata": {},
   "outputs": [
    {
     "name": "stdout",
     "output_type": "stream",
     "text": [
      "Expected value (z) is:  3.2\n",
      "As expected value 3.2 ouside the citical region (i.e. 1.96); so we will reject the null hypothesis. It means Cornstarch will have impact (mean != 100)\n"
     ]
    }
   ],
   "source": [
    "two_tail_critical_region = .05\n",
    "one_side_value = two_tail_critical_region/2\n",
    "p_mean = 100\n",
    "p_sd = 15\n",
    "N = 100\n",
    "s_mean = 108\n",
    "n = 36\n",
    "H0 = 'Cornstarch will not have impact (mean = 100)'\n",
    "H1 = 'Cornstarch will have impact (mean != 100)'\n",
    "\n",
    "std_err = p_sd/(n**.5)\n",
    "z = (s_mean - p_mean)/std_err\n",
    "print('Expected value (z) is: ', z)\n",
    "# Check Z-table value of one_side_value (.025)\n",
    "z_score_value = 1.96\n",
    "print(f'As expected value {z} ouside the citical region (i.e. {z_score_value}); so we will reject the null hypothesis. It means Cornstarch will have impact (mean != 100)')"
   ]
  },
  {
   "cell_type": "markdown",
   "metadata": {},
   "source": [
    "#### Problem Statement 2:\n",
    "In one state, 52% of the voters are Republicans, and 48% are Democrats. In a second state, 47% of the voters are Republicans, and 53% are Democrats. Suppose a simple random sample of 100 voters are surveyed from each state.\n",
    "\n",
    "What is the probability that the survey will show a greater percentage of Republican voters in the second state than in the first state?"
   ]
  },
  {
   "cell_type": "code",
   "execution_count": 3,
   "metadata": {},
   "outputs": [
    {
     "name": "stdout",
     "output_type": "stream",
     "text": [
      "Suppose\n",
      "P1 = the proportion of Republican voters in the first state\n",
      "P2 = the proportion of Republican voters in the second state\n",
      "\n",
      "Mu :  0.050000000000000044 , Std :  0.07061869440877536\n",
      "\n",
      "This problem requires us to find the probability that P1 is less than P2\n",
      "\n",
      "Z_score(p1,p2) :  -0.7080278164104213\n",
      "\n",
      "From Z Table we find that the probability of a z-score being -0.7082 or less is: 0.24\n",
      "\n",
      "ANSWER: Therefore, the probability that the survey will show a greater percentage of Republican voters in the second state than in the first state is 0.24\n"
     ]
    }
   ],
   "source": [
    "print(\"Suppose\")\n",
    "print(\"P1 = the proportion of Republican voters in the first state\")\n",
    "print(\"P2 = the proportion of Republican voters in the second state\")\n",
    "\n",
    "#1st State\n",
    "#The number of voters sampled from the first state (n1) = 100\n",
    "n1 = 100\n",
    "\n",
    "P1 = 0.52\n",
    "#(1 - P1) = Q1\n",
    "Q1 = 0.48\n",
    "\n",
    "#2nd State\n",
    "#The number of voters sampled from the second state (n2) = 100.\n",
    "n2 = 100\n",
    "\n",
    "P2 = 0.47\n",
    "#(1 - P2) = Q2\n",
    "Q2 = 0.53\n",
    "\n",
    "\n",
    "#The mean of the difference in sample proportions .i.e Expected Value E[P1 -P2] = P1 - P2 = mu\n",
    "mu =  P1 - P2\n",
    "\n",
    "#The standard deviation of the difference (std)\n",
    "std = m.sqrt(((P1 * Q1 ) / n1) + ((P2 * Q2) /n2))\n",
    "print(\"\\nMu : \", mu, \", Std : \", std)\n",
    "\n",
    "print(\"\\nThis problem requires us to find the probability that P1 is less than P2\")\n",
    "#This is equivalent to finding the probability that P1 - P2 < 0. \n",
    "x = 0\n",
    "#To find this probability, we need to transform the random variable (P1 - P2) into a z-score. \n",
    "#That transformation appears below.\n",
    "Z_p1_p2 = ( x - mu)/std\n",
    "\n",
    "print(\"\\nZ_score(p1,p2) : \", Z_p1_p2)\n",
    "\n",
    "print(\"\\nFrom Z Table we find that the probability of a z-score being -0.7082 or less is: 0.24\")\n",
    "\n",
    "print(\"\\nANSWER: Therefore, the probability that the survey will show a greater percentage of Republican voters in the second state than in the first state is 0.24\")"
   ]
  },
  {
   "cell_type": "markdown",
   "metadata": {},
   "source": [
    "#### Problem Statement 3:\n",
    "You take the SAT and score 1100. The mean score for the SAT is 1026 and the standard deviation is 209. How well did you score on the test compared to the average test taker?"
   ]
  },
  {
   "cell_type": "code",
   "execution_count": 4,
   "metadata": {},
   "outputs": [
    {
     "name": "stdout",
     "output_type": "stream",
     "text": [
      "Z Score :  0.35406698564593303\n",
      "My Score is in the range 817 to 1235 with a z-score 0.35\n"
     ]
    }
   ],
   "source": [
    "#sample mean\n",
    "x = 1100\n",
    "#population mean\n",
    "mu = 1026 \n",
    "#population std\n",
    "std = 209 \n",
    "\n",
    "#caclulate Z-Score\n",
    "Z = (x-mu)/std\n",
    "\n",
    "print(\"Z Score : \", Z)\n",
    "#The above calculation shows that my score is 0.35 standard deviations above the mean\n",
    "print(\"My Score is in the range {} to {} with a z-score {:.2f}\".format(mu - std,mu + std,Z))"
   ]
  }
 ],
 "metadata": {
  "kernelspec": {
   "display_name": "Python 3",
   "language": "python",
   "name": "python3"
  },
  "language_info": {
   "codemirror_mode": {
    "name": "ipython",
    "version": 3
   },
   "file_extension": ".py",
   "mimetype": "text/x-python",
   "name": "python",
   "nbconvert_exporter": "python",
   "pygments_lexer": "ipython3",
   "version": "3.7.3"
  }
 },
 "nbformat": 4,
 "nbformat_minor": 2
}
