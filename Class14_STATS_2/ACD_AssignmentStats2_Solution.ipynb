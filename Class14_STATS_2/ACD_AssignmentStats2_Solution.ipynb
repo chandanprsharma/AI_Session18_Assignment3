{
 "cells": [
  {
   "cell_type": "markdown",
   "metadata": {},
   "source": [
    "## Statistics 2\n",
    "### Assignment 1 Question"
   ]
  },
  {
   "cell_type": "code",
   "execution_count": 1,
   "metadata": {},
   "outputs": [],
   "source": [
    "# Import modules\n",
    "import math as m"
   ]
  },
  {
   "cell_type": "markdown",
   "metadata": {},
   "source": [
    "#### Problem Statement 1:\n",
    "A test is conducted which is consisting of 20 MCQs (multiple choices questions) with every MCQ having its four options out of which only one is correct. Determine the probability that a person undertaking that test has answered exactly 5 questions wrong."
   ]
  },
  {
   "cell_type": "code",
   "execution_count": 2,
   "metadata": {},
   "outputs": [
    {
     "name": "stdout",
     "output_type": "stream",
     "text": [
      "Probability that a person undertaking that test has answered exactly 5 questions wrong is:  3.4264958230778575e-06\n"
     ]
    }
   ],
   "source": [
    "p_right = 1/4\n",
    "p_wrong = 3/4\n",
    "n = 20\n",
    "x = 5\n",
    "p_x_5 = (m.factorial(n)/(m.factorial(x)*m.factorial(n-x))) * (p_wrong ** x) * (p_right **(n-x))\n",
    "print('Probability that a person undertaking that test has answered exactly 5 questions wrong is: ', p_x_5)"
   ]
  },
  {
   "cell_type": "markdown",
   "metadata": {},
   "source": [
    "#### Problem Statement 2:\n",
    "A die marked A to E is rolled 50 times. Find the probability of getting a “D” exactly 5 times."
   ]
  },
  {
   "cell_type": "code",
   "execution_count": 3,
   "metadata": {},
   "outputs": [
    {
     "name": "stdout",
     "output_type": "stream",
     "text": [
      "Probability of getting a \"D\" exactly 5 times is:  0.029531204310524296\n"
     ]
    }
   ],
   "source": [
    "p_D = 1/5\n",
    "p_not_D = 4/5\n",
    "n = 50\n",
    "x = 5\n",
    "p_x_5 = (m.factorial(n)/(m.factorial(x)*m.factorial(n-x))) * (p_D ** x) * (p_not_D **(n-x))\n",
    "print('Probability of getting a \"D\" exactly 5 times is: ', p_x_5)"
   ]
  },
  {
   "cell_type": "markdown",
   "metadata": {},
   "source": [
    "#### Problem Statement 3:\n",
    "Two balls are drawn at random in succession without replacement from an urn containing 4 red balls and 6 black balls.\n",
    "Find the probabilities of all the possible outcomes."
   ]
  },
  {
   "cell_type": "code",
   "execution_count": 4,
   "metadata": {},
   "outputs": [
    {
     "name": "stdout",
     "output_type": "stream",
     "text": [
      "Probability of (Red, Red) is  0.13333333333333333\n",
      "Probability of (Red, Black) is  0.26666666666666666\n",
      "Probability of (Black, Red) is  0.26666666666666666\n",
      "Probability of (Black, Black) is  0.3333333333333333\n"
     ]
    }
   ],
   "source": [
    "p_R_R = (4/10) * (3/9)\n",
    "p_R_B = (4/10) * (6/9)\n",
    "p_B_R = (6/10) * (4/9)\n",
    "p_B_B = (6/10) * (5/9)\n",
    "print('Probability of (Red, Red) is ', p_R_R)\n",
    "print('Probability of (Red, Black) is ', p_R_B)\n",
    "print('Probability of (Black, Red) is ', p_B_R)\n",
    "print('Probability of (Black, Black) is ', p_B_B)"
   ]
  }
 ],
 "metadata": {
  "kernelspec": {
   "display_name": "Python 3",
   "language": "python",
   "name": "python3"
  },
  "language_info": {
   "codemirror_mode": {
    "name": "ipython",
    "version": 3
   },
   "file_extension": ".py",
   "mimetype": "text/x-python",
   "name": "python",
   "nbconvert_exporter": "python",
   "pygments_lexer": "ipython3",
   "version": "3.7.3"
  }
 },
 "nbformat": 4,
 "nbformat_minor": 2
}
